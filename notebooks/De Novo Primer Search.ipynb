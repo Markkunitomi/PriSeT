{
 "cells": [
  {
   "cell_type": "code",
   "execution_count": null,
   "metadata": {},
   "outputs": [],
   "source": [
    "import os\n",
    "import subprocess\n",
    "\n",
    "#taxid = 3193\n",
    "taxid = Eschericha_coli\n",
    "home_dir = os.path.expanduser('~')\n",
    "priset_build = os.path.expanduser('~/git/PriSeT_git/build')\n",
    "priset_bin = os.path.join(priset_build, 'priset')\n",
    "src_dir = os.path.expanduser('~/git/PriSeT_git/PriSeT/src/priset.cpp')\n",
    "lib_dir = os.path.expanduser(home_dir, 'Data/Genomes/{}'.format(taxid))\n",
    "work_dir = os.path.expanduser('~/priset/{}/work'.format(taxid))"
   ]
  }
 ],
 "metadata": {
  "kernelspec": {
   "display_name": "Python 3",
   "language": "python",
   "name": "python3"
  },
  "language_info": {
   "codemirror_mode": {
    "name": "ipython",
    "version": 3
   },
   "file_extension": ".py",
   "mimetype": "text/x-python",
   "name": "python",
   "nbconvert_exporter": "python",
   "pygments_lexer": "ipython3",
   "version": "3.6.8"
  }
 },
 "nbformat": 4,
 "nbformat_minor": 2
}
