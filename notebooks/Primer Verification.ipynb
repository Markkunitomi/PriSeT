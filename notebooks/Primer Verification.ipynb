{
 "cells": [
  {
   "cell_type": "markdown",
   "metadata": {},
   "source": [
    "# Verify Presence of Established Primer Pairs in a Dataset\n",
    "\n",
    "Given the `nt` data set consisting of short sequences from well examined regions like CO1, ribosomal subunits, etc., we wish to verify if they are found by PriSeT.\n"
   ]
  },
  {
   "cell_type": "code",
   "execution_count": null,
   "metadata": {},
   "outputs": [],
   "source": [
    "import collections\n",
    "\n",
    "'''\n",
    "name: short string ID\n",
    "name_fwd: dedicated string ID for forward primer\n",
    "name_rev: dedicated string ID for reverse primer\n",
    "seq_fwd: one-letter encoded DNA sequence of forward primer\n",
    "seq_rev: one-letter encoded DNA sequence of forward primer\n",
    "target_region: genome location for which primer was originally designed\n",
    "target_group: organism group for which primer was originally designed\n",
    "product_length: expected amplicon length (without primer sequences) \n",
    "ref_pub: original publication referring to this primer pair\n",
    "'''\n",
    "primer_pair = collections.namedtuple('primer_pair', \\\n",
    "                'name name_fwd name_rev seq_fwd seq_rev target_region target_group product_length ref_pub')\n",
    "\n",
    "primer_pairs = []\n",
    "primer_pairs.push_back(primer_pair._make([\"DIV4\", \"DIV4_fw\", \"DIV4_rv\", \"GCGGTAATTCCAGCTCCAATAG\", \"CTCTGACAATGGAATACGAATA\", NULL, \"Diatoms\", 329, \"https://www.ncbi.nlm.nih.gov/pubmed/26052741\"]))               \n",
    "primer_pairs.push_back(primer_pair._make([\"EUK14\", \"F-566cw-bio\", \"R-1200\", \"CAGCAGCCGCGGTAATTCC\", \"CCCGTGTTGAGTCAAATTAAGC\", \"18S\", \"Eukaryotes\", NULL, NULL]))\n",
    "primer_pairs.push_back(primer_pair._make([\"EUK15\", \"TAReuk454FWD1\", \"TAReukREV3\", \"CCAGCASCYGCGGTAATTCC\", \"ACTTTCGTTCTTGATYRA\", \"18S\", \"Eukaryotes\", NULL, \"http://www.biomarks.eu/sites/default/files/pdf-refs/Stoeck%20et%20al%202010.pdf\"]))\n",
    "primer_pairs.push_back(primer_pair._make([\"UNIV\", \"926mod\", \"1392mod\", \"AAACTYRAAGWGRCGG\", \"AAAGTCTCGTGWGTRC\", \"16S\", \"Universal\", NULL, NULL]))\n",
    "primer_pairs.push_back(primer_pair._make([\"23S\", \"A23SrVF1\", \"A23SrVR1\", \"GGACARAAAGACCCTATG\", \"AGATCAGCCTGTTATCC\", NULL, NULL, 400, \"https://peerj.com/articles/2115/\"]))\n",
    "primer_pairs.push_back(primer_pair._make([\"COI\", \"LCO1490\", \"COI_230_R\", \"GGTCAACAAATCATAAAGATATTGG\", \"CTTATRTTRTTTATICGIGGRAAIGC\", \"23S\", NULL, 230, \"https://pdfs.semanticscholar.org/943d/38b9d96f8222e883604822bcafb7930ca6da.pdf\"]))\n",
    "primer_pairs.push_back(primer_pair._make([\"nSSU\", \"SU_FO4 nSSU\", \"SSU_R22 nSSU\", \"GCTTGTCTCAAAGATTAAGCC\", \"GCCTGCTGCCTTCCTTGGA\", \"18S\", \"multiple metazoan phyla\", NULL, \"https://www.nature.com/articles/ncomms1095\"]))\n",
    "primer_pairs.push_back(primer_pair._make([\"V9\", \"V9_18S_fw\", \"V9_18S_rv\", \"GTACACACCGCCCGTC\", \"TGATCCTTCTGCAGGTTCACCTAC\", \"18S\", \"zooplankton\", NULL, NULL]))\n",
    "\n",
    "one_letter_codes = {'R': '', 'I': '', 'Y': ''}"
   ]
  }
 ],
 "metadata": {
  "kernelspec": {
   "display_name": "Python 3",
   "language": "python",
   "name": "python3"
  },
  "language_info": {
   "codemirror_mode": {
    "name": "ipython",
    "version": 3
   },
   "file_extension": ".py",
   "mimetype": "text/x-python",
   "name": "python",
   "nbconvert_exporter": "python",
   "pygments_lexer": "ipython3",
   "version": "3.6.8"
  }
 },
 "nbformat": 4,
 "nbformat_minor": 2
}
