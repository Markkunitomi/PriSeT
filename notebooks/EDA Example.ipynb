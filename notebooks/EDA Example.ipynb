{
 "cells": [
  {
   "cell_type": "markdown",
   "metadata": {},
   "source": [
    "# Evaluation\n",
    "\n",
    "Directory settings and global imports."
   ]
  },
  {
   "cell_type": "code",
   "execution_count": 13,
   "metadata": {
    "scrolled": true
   },
   "outputs": [],
   "source": [
    "import os\n",
    "\n",
    "#taxid = 3193\n",
    "volume = \"/Volumes/plastic_data/priset\"\n",
    "taxid = 'nt_25K'\n",
    "#taxid = 3051  # 47 covered nodes\n",
    "#taxid = 3041  # Chlorophyta with 179 covered nodes\n",
    "\n",
    "# edit flag if index for taxid has already been computed\n",
    "idx_exists = True"
   ]
  },
  {
   "cell_type": "code",
   "execution_count": 14,
   "metadata": {},
   "outputs": [],
   "source": [
    "home_dir = os.path.expanduser('~')\n",
    "priset_bin = os.path.join(os.path.expanduser('~/git/PriSeT_git/build'), 'priset')\n",
    "lib_dir = os.path.join(volume, 'library/{}'.format(taxid))\n",
    "work_dir = os.path.join(volume, 'work/{}'.format(taxid))"
   ]
  },
  {
   "cell_type": "markdown",
   "metadata": {},
   "source": [
    "### EDA: Kmer Distribution\n",
    "\n",
    "To explore your data set and get an idea of a good choice for the kmer length `K` or error rate `E`, run the following loop to compute a histogram distribution of the frequencies of unique kmers for lengths in range `[12:25]`. This may take a while. If the index has already been computed, set the `idx_exists` to `True`, otherwise it will be created once."
   ]
  },
  {
   "cell_type": "code",
   "execution_count": 15,
   "metadata": {},
   "outputs": [
    {
     "name": "stdout",
     "output_type": "stream",
     "text": [
      "/Users/troja/git/PriSeT_git/build/priset -l /Volumes/plastic_data/priset/library/nt_25K -w /Volumes/plastic_data/priset/work/nt_25K -K 16 -s\n"
     ]
    },
    {
     "ename": "SystemExit",
     "evalue": "0",
     "output_type": "error",
     "traceback": [
      "An exception has occurred, use %tb to see the full traceback.\n",
      "\u001b[0;31mSystemExit\u001b[0m\u001b[0;31m:\u001b[0m 0\n"
     ]
    },
    {
     "name": "stderr",
     "output_type": "stream",
     "text": [
      "/Applications/anaconda3/lib/python3.6/site-packages/IPython/core/interactiveshell.py:2918: UserWarning: To exit: use 'exit', 'quit', or Ctrl-D.\n",
      "  warn(\"To exit: use 'exit', 'quit', or Ctrl-D.\", stacklevel=1)\n"
     ]
    }
   ],
   "source": [
    "import collections\n",
    "import re\n",
    "import subprocess\n",
    "import sys\n",
    "import matplotlib\n",
    "import matplotlib.pyplot as plt\n",
    "import numpy as np\n",
    "\n",
    "var = collections.namedtuple('stats', 'varname rx value')\n",
    "\n",
    "stats = [var._make(['lib_size', re.compile(\"INFO: library size = (?P<lib_size>\\d+)\"), 0]), \\\n",
    "        var._make(['cutoff', re.compile(\"INFO: Cut-off frequency = (?P<cutoff>\\d+)\"), 0]), \\\n",
    "        var._make(['K', re.compile(\"INFO: K = (?P<K>\\d+)\"), []]), \\\n",
    "        var._make(['kmers_init', re.compile(\"INFO: kmers init = (?P<kmers_init>\\d+)\"), []]), \\\n",
    "        var._make(['kmers_freq_cutoff', re.compile(\"INFO: kmers after frequency cutoff = (?P<kmers_freq_cutoff>\\d+)\"), []]), \\\n",
    "        var._make(['kmers_chem_filter', re.compile(\"INFO: kmers after chemical filtering = (?P<kmers_chem_filter>\\d+)\"), []]), \\\n",
    "        var._make(['pairs_init', re.compile(\"INFO: pairs combined = (?P<pairs_init>\\d+)\"), []]), \\\n",
    "        var._make(['pairs_chem_filter', re.compile(\"INFO: pairs filtered = (?P<pairs_chem_filter>\\d+)\"), []])]\n",
    "          \n",
    "k_range = range(16, 17)\n",
    "\n",
    "for i, k in enumerate(k_range):\n",
    "    cmd = [priset_bin, '-l', lib_dir, '-w', work_dir, '-K', str(k)]\n",
    "    if idx_exists is True:\n",
    "        cmd.append('-s')\n",
    "    else:  # compute index once\n",
    "        idx_exists = True\n",
    "    print(' '.join(cmd))\n",
    "    sys.exit(0)\n",
    "    proc = subprocess.Popen(' '.join(cmd), stdout=subprocess.PIPE, stderr=subprocess.PIPE, shell=True)\n",
    "    stdout_, stderr_ = proc.communicate()\n",
    "    stdout_ = stdout_.decode('utf-8')\n",
    "    stderr_ = stderr_.decode('utf-8')\n",
    "    \n",
    "    print('stdout = ', stdout_)\n",
    "    print('stderr = ', stderr_)\n",
    "    \n",
    "    # grep lib size once (constant for all runs)\n",
    "    if i == 0:\n",
    "        mo1, mo2 = stats[0].rx.search(stdout_), stats[1].rx.search(stdout_)\n",
    "        if mo1 is None or mo2 is None:\n",
    "            if mo1 is None:\n",
    "                print(\"Error: could not capture \", stats[0].varname, \" from stdout.\")\n",
    "            if mo2 is None:\n",
    "                print(\"Error: could not capture \", stats[1].varname, \" from stdout.\")\n",
    "            break\n",
    "        print('lib_size = ', mo1.group('lib_size'))\n",
    "        print('cutoff = ', mo2.group('cutoff'))\n",
    "        \n",
    "        stats[0] = stats[0]._replace(value = int(mo1.group('lib_size')))\n",
    "        stats[1] = stats[1]._replace(value = int(mo2.group('cutoff')))\n",
    "        \n",
    "    for j in range(2, len(stats)):\n",
    "        mo = stats[j].rx.search(stdout_)\n",
    "        if mo is None:\n",
    "            print(\"Error: could not capture \", stats[j].varname, \" from output.\")\n",
    "            break\n",
    "        print(mo.group(stats[j].varname))\n",
    "        value_new = stats[j].value + [int(mo.group(stats[j].varname))]\n",
    "        stats[j] = stats[j]._replace(value = value_new)\n",
    "           \n",
    "for stat in stats:\n",
    "    print(stat.varname, \"=\", stat.value)\n",
    "    \n",
    "# number of bars per group\n",
    "group_size = len(stats) - 3\n",
    "print(\"group_size = \", group_size)\n",
    "\n",
    "kmers_init = tuple(stats[3].value)\n",
    "kmers_chem_filter = tuple(stats[4].value)\n",
    "pairs_init = tuple(stats[5].value)\n",
    "pairs_chem_filter = tuple(stats[6].value)\n",
    "\n",
    "ind = np.arange(0, 2*len(k_range), 2)  # the x locations for the groups\n",
    "width = 0.3  # the width of the bars\n",
    "groups = [0 for _ in range(group_size)]\n",
    "colors = plt.cm.viridis(np.linspace(0, 1, group_size))\n",
    "\n",
    "fig, ax = plt.subplots(figsize = (20, 10))\n",
    "plt.yscale('log', nonposy = 'clip')\n",
    "for j in range(len(groups)):\n",
    "    offset = -width*(group_size - 1)/2 + j\n",
    "    groups[j] = ax.bar(offset, tuple(stats[j + 3].value), width, label = stats[j + 3].varname, color = colors[j])\n",
    "    \n",
    "ax.set_ylabel('Frequency', fontsize = 16)\n",
    "ax.set_title('Kmer Frequencies per Processing Step', fontsize = 24)\n",
    "ax.set_xticks(ind)\n",
    "ax.set_xticklabels(tuple(['K={}'.format(k) for k in k_range]), fontsize = 16)\n",
    "ax.tick_params(axis = \"y\", labelsize = 16)\n",
    "ax.legend(fontsize = 16)\n",
    "                   \n",
    "for rects in groups:\n",
    "    for i, rect in enumerate(rects):\n",
    "        height = rect.get_height()\n",
    "        ax.annotate('{}'.format(height),\n",
    "                    xy = (rect.get_x() + rect.get_width() / 2, height),\n",
    "                    xytext = (0, 3),  # use 3 points offset\n",
    "                    textcoords = \"offset points\",  # in both directions\n",
    "                    ha = 'center', va = 'bottom')\n",
    "fig.text(.5, -.15, 'library size = {}\\t cutoff frequency = {}'.format(stats[0].value, stats[1].value), ha='center')\n",
    "fig.tight_layout()\n",
    "plt.show()\n",
    "fig.savefig(os.path.join(work_dir, 'kmers_freq_taxid_{}.png'.format(taxid)), dpi=100)\n"
   ]
  },
  {
   "cell_type": "code",
   "execution_count": 64,
   "metadata": {},
   "outputs": [],
   "source": [
    "exit"
   ]
  },
  {
   "cell_type": "code",
   "execution_count": null,
   "metadata": {},
   "outputs": [],
   "source": []
  }
 ],
 "metadata": {
  "kernelspec": {
   "display_name": "Python 3",
   "language": "python",
   "name": "python3"
  },
  "language_info": {
   "codemirror_mode": {
    "name": "ipython",
    "version": 3
   },
   "file_extension": ".py",
   "mimetype": "text/x-python",
   "name": "python",
   "nbconvert_exporter": "python",
   "pygments_lexer": "ipython3",
   "version": "3.6.8"
  }
 },
 "nbformat": 4,
 "nbformat_minor": 2
}
